{
 "cells": [
  {
   "cell_type": "code",
   "execution_count": 1,
   "metadata": {},
   "outputs": [],
   "source": [
    "from gerrychain import updaters, Graph, constraints, GeographicPartition, proposals, tree\n",
    "import pandas as pd\n",
    "import numpy as np\n",
    "import matplotlib.pyplot as plt\n",
    "import scipy.stats as st"
   ]
  },
  {
   "cell_type": "code",
   "execution_count": 2,
   "metadata": {},
   "outputs": [
    {
     "name": "stdout",
     "output_type": "stream",
     "text": [
      "Loaded graph\n"
     ]
    }
   ],
   "source": [
    "graph = Graph.from_file(\"./PA_VTD/PA_VTD.shp\")\n",
    "print(\"Loaded graph\")\n"
   ]
  },
  {
   "cell_type": "code",
   "execution_count": 3,
   "metadata": {},
   "outputs": [
    {
     "name": "stdout",
     "output_type": "stream",
     "text": [
      "Sample node data: \n",
      "{'boundary_node': False, 'area': 58376433.4607846, 'STATEFP10': '42', 'COUNTYFP10': '039', 'VTDST10': '60', 'GEOID10': '42039060', 'VTDI10': 'A', 'NAME10': 'CAMBRIDGE SPRINGS Voting District', 'NAMELSAD10': 'CAMBRIDGE SPRINGS Voting District', 'LSAD10': '00', 'MTFCC10': 'G5240', 'FUNCSTAT10': 'N', 'ALAND10': 2258229, 'AWATER10': 0, 'INTPTLAT10': '+41.8018353', 'INTPTLON10': '-080.0596566', 'ATG12D': 0.0, 'ATG12R': 0.0, 'GOV10D': 0.0, 'GOV10R': 0.0, 'PRES12D': 0.0, 'PRES12O': 0.0, 'PRES12R': 0.0, 'SEN10D': 0.0, 'SEN10R': 0.0, 'T16ATGD': 0.0, 'T16ATGR': 0.0, 'T16PRESD': 0.0, 'T16PRESOTH': 0.0, 'T16PRESR': 0.0, 'T16SEND': 0.0, 'T16SENR': 0.0, 'USS12D': 0.0, 'USS12R': 0.0, 'GOV': 3, 'TS': 5, 'HISP_POP': 0, 'TOT_POP': 0, 'WHITE_POP': 0, 'BLACK_POP': 0, 'NATIVE_POP': 0, 'ASIAN_POP': 0, 'F2014GOVD': 0, 'F2014GOVR': 0, '2011_PLA_1': 3, 'REMEDIAL_P': 14, '538CPCT__1': '03', '538DEM_PL': '03', '538GOP_PL': '03', '8THGRADE_1': '1', 'geometry': <shapely.geometry.polygon.Polygon object at 0x10593cfd0>}\n",
      "None\n"
     ]
    }
   ],
   "source": [
    "print(\"Sample node data: \")\n",
    "print(print(graph.nodes[0]))"
   ]
  },
  {
   "cell_type": "code",
   "execution_count": 4,
   "metadata": {},
   "outputs": [],
   "source": [
    "my_updaters = {\n",
    "    \"population\": updaters.Tally(\"TOT_POP\", alias=\"population\"),\n",
    "    \"BVAP\": updaters.Tally(\"BLACK_POP\", alias=\"BVAP\"),\n",
    "    \"VAP\": updaters.Tally(\"TOT_POP\", alias=\"VAP\")\n",
    "}\n",
    "initial_partition = GeographicPartition(graph, assignment=\"2011_PLA_1\", updaters=my_updaters)\n",
    "ideal_population = sum(initial_partition[\"population\"].values()) / len(initial_partition)\n",
    "num_districts = len(initial_partition)\n",
    "dict_BVAP = {d : float(sum(\n",
    "    [graph.nodes[n][\"BLACK_POP\"] for n in initial_partition.parts[d]]))/float(sum(\n",
    "    [graph.nodes[n][\"TOT_POP\"] for n in initial_partition.parts[d]])) for d in initial_partition.parts}\n",
    "\n",
    "compactness_bound = constraints.UpperBound(\n",
    "    lambda p: len(p[\"cut_edges\"]),\n",
    "    2*len(initial_partition[\"cut_edges\"])\n",
    ")\n",
    "\n",
    "pop_constraint = constraints.within_percent_of_ideal_population(initial_partition, 0.02)"
   ]
  },
  {
   "cell_type": "code",
   "execution_count": 5,
   "metadata": {},
   "outputs": [
    {
     "name": "stdout",
     "output_type": "stream",
     "text": [
      "50 100 150 200 250 300 350 400 450 500 550 600 650 700 750 800 850 900 950 1000 1050 1100 1150 1200 1250 1300 1350 1400 1450 1500 1550 1600 1650 1700 1750 1800 1850 1900 1950 2000 2050 2100 2150 2200 2250 2300 2350 2400 2450 2500 2550 2600 2650 2700 2750 2800 2850 2900 2950 3000 "
     ]
    }
   ],
   "source": [
    "BVAPS = []\n",
    "counter = 0\n",
    "for sample in range(0,3000):\n",
    "    counter += 1\n",
    "    if counter % 50 == 0:\n",
    "        print(counter, end=\" \")\n",
    "    district = tree.bipartition_tree(graph, \"TOT_POP\", ideal_population, 0.02, 2)\n",
    "    BVAP = sum([graph.nodes[n][\"BLACK_POP\"] for n in district])\n",
    "    VAP = sum([graph.nodes[n][\"TOT_POP\"] for n in district])\n",
    "    BVAPS.append(BVAP/VAP)"
   ]
  },
  {
   "cell_type": "code",
   "execution_count": 30,
   "metadata": {},
   "outputs": [
    {
     "name": "stdout",
     "output_type": "stream",
     "text": [
      "200 200\n"
     ]
    },
    {
     "data": {
      "image/png": "[encoded data removed]",
      "text/plain": [
       "<Figure size 432x288 with 1 Axes>"
      ]
     },
     "metadata": {
      "needs_background": "light"
     },
     "output_type": "display_data"
    }
   ],
   "source": [
    "'''\n",
    "n_bins = 200\n",
    "hist = plt.hist(BVAPS, bins=np.linspace(0, 1, n_bins+1, endpoint=True))\n",
    "pdf = [x/sum(BVAPS) for x in hist[0]]\n",
    "import pickle \n",
    "pickle.dump( pdf, open( \"pdf_PA_BVAP.p\", \"wb\" ) )\n",
    "'''"
   ]
  },
  {
   "cell_type": "code",
   "execution_count": 38,
   "metadata": {},
   "outputs": [
    {
     "data": {
      "text/plain": [
       "[<matplotlib.lines.Line2D at 0x1160a9668>]"
      ]
     },
     "execution_count": 38,
     "metadata": {},
     "output_type": "execute_result"
    },
    {
     "data": {
      "image/png": "[encoded data removed]",
      "text/plain": [
       "<Figure size 432x288 with 1 Axes>"
      ]
     },
     "metadata": {
      "needs_background": "light"
     },
     "output_type": "display_data"
    }
   ],
   "source": [
    "pdf = pickle.load(open(\"pdf_PA_BVAP.p\", \"rb\"))\n",
    "n_bins = len(pdf)\n",
    "plt.plot(pdf)"
   ]
  },
  {
   "cell_type": "code",
   "execution_count": 31,
   "metadata": {},
   "outputs": [],
   "source": [
    "class BVAP_pdf(st.rv_continuous):\n",
    "    def _pdf(self,x):\n",
    "        return pdf[np.digitize(x, np.linspace(0, 1, n_bins))-1]\n",
    "\n",
    "BVAPPDF = BVAP_pdf()"
   ]
  },
  {
   "cell_type": "code",
   "execution_count": 32,
   "metadata": {},
   "outputs": [
    {
     "name": "stdout",
     "output_type": "stream",
     "text": [
      "Starting vector:  [0.04486926398104869, 0.03105268517889877, 0.028254804270462633, 0.020225113052274913, 0.036755774581212645, 0.040445916727828136, 0.045266374988477055, 0.033312124746170055, 0.07336725858724133, 0.023413005934713897, 0.030538123449518007, 0.05137649059620988, 0.04800108917936791, 0.05669159196462904, 0.2147489957847053, 0.17113362873531263, 0.5893275933166027, 0.34225497032262453]\n"
     ]
    },
    {
     "name": "stderr",
     "output_type": "stream",
     "text": [
      "/Users/thomasweighill/miniconda3/envs/Gerry/lib/python3.7/site-packages/ipykernel_launcher.py:13: RuntimeWarning: divide by zero encountered in double_scalars\n",
      "  del sys.path[0]\n"
     ]
    }
   ],
   "source": [
    "###MCMC time\n",
    "vector = list(dict_BVAP.values())\n",
    "print(\"Starting vector: \", vector)\n",
    "\n",
    "list_of_vector_dicts = []\n",
    "counter = 0 \n",
    "for step in range(0, 100000):\n",
    "    [position1, position2] = np.random.choice(range(num_districts), size=2, replace=False)\n",
    "    random01 = np.random.random()\n",
    "    sum_of_positions = vector[position1]+vector[position2]\n",
    "    proposal = [sum_of_positions*random01, sum_of_positions*(1-random01)]\n",
    "    random_for_accept = np.random.random()\n",
    "    alpha = BVAPPDF._pdf(proposal[0])*BVAPPDF._pdf(proposal[1])/(BVAPPDF._pdf(vector[position1])*BVAPPDF._pdf(vector[position2]))\n",
    "    if (random_for_accept <= alpha):\n",
    "        vector[position1] = proposal[0]\n",
    "        vector[position2] = proposal[1]\n",
    "    vector_dict = {x: sorted(vector)[x] for x in range(0, len(vector)) }\n",
    "    counter += 1\n",
    "    if counter > 1000:\n",
    "        list_of_vector_dicts.append(vector_dict)\n",
    "    \n",
    "df = pd.DataFrame(list_of_vector_dicts)"
   ]
  },
  {
   "cell_type": "code",
   "execution_count": 9,
   "metadata": {},
   "outputs": [],
   "source": [
    "df_real = pd.read_csv(\"./PA_BPOP/BPOP_2000.csv\", header=None)\n",
    "for x in range(4000,100001,2000):\n",
    "    df_real = pd.concat([df_real, pd.read_csv(\"./PA_BPOP/BPOP_{0}.csv\".format(x), header=None)], ignore_index=True)"
   ]
  },
  {
   "cell_type": "code",
   "execution_count": 33,
   "metadata": {},
   "outputs": [
    {
     "name": "stdout",
     "output_type": "stream",
     "text": [
      "Done generating simulated boxplot...\n",
      "Done generating real boxplot...\n"
     ]
    },
    {
     "data": {
      "image/png": "[encoded data removed]",
      "text/plain": [
       "<Figure size 432x288 with 2 Axes>"
      ]
     },
     "metadata": {
      "needs_background": "light"
     },
     "output_type": "display_data"
    }
   ],
   "source": [
    "fig = plt.figure()\n",
    "ax = plt.subplot(1,2,1)\n",
    "\n",
    "# Draw 50% line\n",
    "ax.set_title(\"Simplex generated BVAP\")\n",
    "ax.set_ylabel(\"BVAP %\")\n",
    "ax.set_xlabel(\"Sorted districts\")\n",
    "ax.set_ylim(0, 0.6)\n",
    "ax.set_yticks([0, 0.1, 0.2, 0.3, 0.4, 0.5, 0.6])\n",
    "\n",
    "# Draw boxplot\n",
    "bp = df.boxplot(ax=ax, showfliers=False)\n",
    "print(\"Done generating simulated boxplot...\")\n",
    "\n",
    "ax2 = plt.subplot(1,2,2)\n",
    "bp_real = df_real.boxplot(ax=ax2, showfliers=False)\n",
    "print(\"Done generating real boxplot...\")\n",
    "ax2.set_title(\"Actual BVAP\")\n",
    "ax2.set_ylabel(\"BVAP %\")\n",
    "ax2.set_xlabel(\"Sorted districts\")\n",
    "ax2.set_ylim(0, 0.6)\n",
    "ax2.set_yticks([0, 0.1, 0.2, 0.3, 0.4, 0.5, 0.6])\n",
    "\n",
    "\n",
    "# Annotate\n",
    "\n",
    "\n",
    "plt.show()\n",
    "fig.savefig(\"Comparing_simplex_to_actual_PA.png\")"
   ]
  },
  {
   "cell_type": "code",
   "execution_count": null,
   "metadata": {},
   "outputs": [],
   "source": []
  }
 ],
 "metadata": {
  "kernelspec": {
   "display_name": "Python 3",
   "language": "python",
   "name": "python3"
  },
  "language_info": {
   "codemirror_mode": {
    "name": "ipython",
    "version": 3
   },
   "file_extension": ".py",
   "mimetype": "text/x-python",
   "name": "python",
   "nbconvert_exporter": "python",
   "pygments_lexer": "ipython3",
   "version": "3.7.3"
  }
 },
 "nbformat": 4,
 "nbformat_minor": 2
}
