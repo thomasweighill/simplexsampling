{
 "cells": [
  {
   "cell_type": "code",
   "execution_count": 5,
   "metadata": {},
   "outputs": [],
   "source": [
    "from gerrychain import updaters, Graph, constraints, GeographicPartition, proposals, tree\n",
    "import pandas as pd\n",
    "import numpy as np\n",
    "import matplotlib.pyplot as plt\n",
    "import scipy.stats as st"
   ]
  },
  {
   "cell_type": "code",
   "execution_count": 6,
   "metadata": {},
   "outputs": [
    {
     "name": "stderr",
     "output_type": "stream",
     "text": [
      "/Users/thomasweighill/miniconda3/envs/Gerry/lib/python3.7/site-packages/gerrychain/graph/adjacency.py:68: UserWarning: Found overlaps among the given polygons. Indices of overlaps: {(309, 320), (307, 320), (308, 309)}\n",
      "  overlaps\n"
     ]
    },
    {
     "name": "stdout",
     "output_type": "stream",
     "text": [
      "Loaded graph\n"
     ]
    },
    {
     "name": "stderr",
     "output_type": "stream",
     "text": [
      "/Users/thomasweighill/miniconda3/envs/Gerry/lib/python3.7/site-packages/gerrychain/graph/graph.py:249: UserWarning: NA values found in column G17DGOV!\n",
      "  warnings.warn(\"NA values found in column {}!\".format(column))\n",
      "/Users/thomasweighill/miniconda3/envs/Gerry/lib/python3.7/site-packages/gerrychain/graph/graph.py:249: UserWarning: NA values found in column G16OHOR!\n",
      "  warnings.warn(\"NA values found in column {}!\".format(column))\n",
      "/Users/thomasweighill/miniconda3/envs/Gerry/lib/python3.7/site-packages/gerrychain/graph/graph.py:249: UserWarning: NA values found in column notes!\n",
      "  warnings.warn(\"NA values found in column {}!\".format(column))\n",
      "/Users/thomasweighill/miniconda3/envs/Gerry/lib/python3.7/site-packages/gerrychain/graph/graph.py:249: UserWarning: NA values found in column explain!\n",
      "  warnings.warn(\"NA values found in column {}!\".format(column))\n"
     ]
    }
   ],
   "source": [
    "graph = Graph.from_file(\"./VA_MUNI_DATA/va_precincts_all.shp\")\n",
    "print(\"Loaded graph\")\n"
   ]
  },
  {
   "cell_type": "code",
   "execution_count": 7,
   "metadata": {},
   "outputs": [
    {
     "name": "stdout",
     "output_type": "stream",
     "text": [
      "Sample node data: \n",
      "{'boundary_node': False, 'area': 13171012.745632773, 'precinct': 'Titustown', 'locality': 'Norfolk', 'loc_prec': 'Norfolk Titustown', 'district': 'Congressional District 2', 'G18DHOR': '666.0', 'G18DSEN': '680.0', 'G18OHOR': '0.0', 'G18OSEN': '12.0', 'G18RHOR': '87.0', 'G18RSEN': '68.0', 'G17DGOV': '516.0', 'G17DLTG': '519.0', 'G17DATG': '510.0', 'G17DHOD': '533.0', 'G17RGOV': '54.0', 'G17RLTG': '63.0', 'G17RATG': '70.0', 'G17RHOD': '0.0', 'G17OHOD': '0.0', 'G17OGOV': '11.0', 'G16DPRS': '772.0', 'G16RPRS': '135.0', 'G16OPRS': '49.0', 'G16DHOR': '780.0', 'G16RHOR': '149.0', 'G16OHOR': '0.0', 'notes': None, 'explain': None, 'TOTPOP': 8728, 'WHITE': 3234, 'AMIN': 74, 'ASIAN': 213, 'NHPI': 27, 'OTHER': 311, '2MORE': 529, 'VAP': 5943, 'DLS_BVAP': 2237, 'DLS_NONB': 3706, 'DOJ_BVAP': 2237, 'DOJ_NONB': 3706, 'SENPER': 0.909, 'ATGperc': 0.879, 'geometry': <shapely.geometry.polygon.Polygon object at 0x122db1400>}\n",
      "None\n"
     ]
    }
   ],
   "source": [
    "print(\"Sample node data: \")\n",
    "print(print(graph.nodes[0]))"
   ]
  },
  {
   "cell_type": "code",
   "execution_count": 8,
   "metadata": {},
   "outputs": [],
   "source": [
    "my_updaters = {\n",
    "    \"population\": updaters.Tally(\"TOTPOP\", alias=\"population\"),\n",
    "    \"BVAP\": updaters.Tally(\"DOJ_BVAP\", alias=\"BVAP\"),\n",
    "    \"VAP\": updaters.Tally(\"VAP\", alias=\"VAP\")\n",
    "}\n",
    "initial_partition = GeographicPartition(graph, assignment=\"district\", updaters=my_updaters)\n",
    "ideal_population = sum(initial_partition[\"population\"].values()) / len(initial_partition)\n",
    "num_districts = len(initial_partition)\n",
    "dict_BVAP = {d : float(sum(\n",
    "    [graph.nodes[n][\"DOJ_BVAP\"] for n in initial_partition.parts[d]]))/float(sum(\n",
    "    [graph.nodes[n][\"VAP\"] for n in initial_partition.parts[d]])) for d in initial_partition.parts}\n",
    "\n",
    "compactness_bound = constraints.UpperBound(\n",
    "    lambda p: len(p[\"cut_edges\"]),\n",
    "    2*len(initial_partition[\"cut_edges\"])\n",
    ")\n",
    "\n",
    "pop_constraint = constraints.within_percent_of_ideal_population(initial_partition, 0.02)"
   ]
  },
  {
   "cell_type": "code",
   "execution_count": 9,
   "metadata": {},
   "outputs": [
    {
     "name": "stdout",
     "output_type": "stream",
     "text": [
      "50 100 150 200 250 300 350 400 450 500 550 600 650 700 750 800 850 900 950 1000 1050 1100 1150 1200 1250 1300 1350 1400 1450 1500 1550 1600 1650 1700 1750 1800 1850 1900 1950 2000 2050 2100 2150 2200 2250 2300 2350 2400 2450 2500 2550 2600 2650 2700 2750 2800 2850 2900 2950 3000 "
     ]
    }
   ],
   "source": [
    "BVAPS = []\n",
    "counter = 0\n",
    "for sample in range(0,3000):\n",
    "    counter += 1\n",
    "    if counter % 50 == 0:\n",
    "        print(counter, end=\" \")\n",
    "    district = tree.bipartition_tree(graph, \"TOTPOP\", ideal_population, 0.02, 2)\n",
    "    BVAP = sum([graph.nodes[n][\"DOJ_BVAP\"] for n in district])\n",
    "    VAP = sum([graph.nodes[n][\"VAP\"] for n in district])\n",
    "    BVAPS.append(BVAP/VAP)"
   ]
  },
  {
   "cell_type": "code",
   "execution_count": 23,
   "metadata": {},
   "outputs": [
    {
     "data": {
      "image/png": "[encoded data removed]",
      "text/plain": [
       "<Figure size 432x288 with 1 Axes>"
      ]
     },
     "metadata": {
      "needs_background": "light"
     },
     "output_type": "display_data"
    }
   ],
   "source": [
    "'''\n",
    "n_bins = 200\n",
    "hist = plt.hist(BVAPS, bins=np.linspace(0, 1, n_bins+1, endpoint=True))\n",
    "pdf = [x/sum(BVAPS) for x in hist[0]]\n",
    "import pickle \n",
    "pickle.dump( pdf, open( \"pdf_VA_BVAP.p\", \"wb\" ) )\n",
    "'''"
   ]
  },
  {
   "cell_type": "code",
   "execution_count": 28,
   "metadata": {},
   "outputs": [
    {
     "data": {
      "text/plain": [
       "[<matplotlib.lines.Line2D at 0x122e70d30>]"
      ]
     },
     "execution_count": 28,
     "metadata": {},
     "output_type": "execute_result"
    },
    {
     "data": {
      "image/png": "[encoded data removed]",
      "text/plain": [
       "<Figure size 432x288 with 1 Axes>"
      ]
     },
     "metadata": {
      "needs_background": "light"
     },
     "output_type": "display_data"
    }
   ],
   "source": [
    "pdf = pickle.load(open(\"pdf_VA_BVAP.p\", \"rb\"))\n",
    "n_bins = len(pdf)\n",
    "plt.plot(pdf)"
   ]
  },
  {
   "cell_type": "code",
   "execution_count": 16,
   "metadata": {},
   "outputs": [],
   "source": [
    "class BVAP_pdf(st.rv_continuous):\n",
    "    def _pdf(self,x):\n",
    "        return pdf[np.digitize(x, np.linspace(0, 1, n_bins))-1]\n",
    "\n",
    "BVAPPDF = BVAP_pdf()"
   ]
  },
  {
   "cell_type": "code",
   "execution_count": 20,
   "metadata": {},
   "outputs": [
    {
     "name": "stdout",
     "output_type": "stream",
     "text": [
      "Starting vector:  [0.1913996875828937, 0.4400019684451217, 0.10385156678342314, 0.05103286288668253, 0.20158574259632697, 0.13299328554562032, 0.1774155956888056, 0.16136410399611997, 0.4055859416352024, 0.0678184302765468, 0.11924110827848675]\n"
     ]
    },
    {
     "name": "stderr",
     "output_type": "stream",
     "text": [
      "/Users/thomasweighill/miniconda3/envs/Gerry/lib/python3.7/site-packages/ipykernel_launcher.py:12: RuntimeWarning: divide by zero encountered in double_scalars\n",
      "  if sys.path[0] == '':\n"
     ]
    }
   ],
   "source": [
    "###MCMC time\n",
    "vector = list(dict_BVAP.values())\n",
    "print(\"Starting vector: \", vector)\n",
    "\n",
    "list_of_vector_dicts = []\n",
    "for step in range(0, 100000):\n",
    "    [position1, position2] = np.random.choice(range(num_districts), size=2, replace=False)\n",
    "    random01 = np.random.random()\n",
    "    sum_of_positions = vector[position1]+vector[position2]\n",
    "    proposal = [sum_of_positions*random01, sum_of_positions*(1-random01)]\n",
    "    random_for_accept = np.random.random()\n",
    "    alpha = BVAPPDF._pdf(proposal[0])*BVAPPDF._pdf(proposal[1])/(BVAPPDF._pdf(vector[position1])*BVAPPDF._pdf(vector[position2]))\n",
    "    if (random_for_accept <= alpha):\n",
    "        vector[position1] = proposal[0]\n",
    "        vector[position2] = proposal[1]\n",
    "    vector_dict = {x: sorted(vector)[x] for x in range(0, len(vector)) }\n",
    "    counter += 1\n",
    "    if counter > 1000:\n",
    "        list_of_vector_dicts.append(vector_dict)\n",
    "    \n",
    "df = pd.DataFrame(list_of_vector_dicts)"
   ]
  },
  {
   "cell_type": "code",
   "execution_count": 13,
   "metadata": {},
   "outputs": [],
   "source": [
    "df_real = pd.read_csv(\"./VA_BVAP/DOJBVAP_2000.csv\", header=None)\n",
    "for x in range(4000,100001,2000):\n",
    "    df_real = pd.concat([df_real, pd.read_csv(\"./VA_BVAP/DOJBVAP_{0}.csv\".format(x), header=None)], ignore_index=True)"
   ]
  },
  {
   "cell_type": "code",
   "execution_count": 21,
   "metadata": {},
   "outputs": [
    {
     "name": "stdout",
     "output_type": "stream",
     "text": [
      "Done generating simulated boxplot...\n",
      "Done generating real boxplot...\n"
     ]
    },
    {
     "data": {
      "image/png": "[encoded data removed]",
      "text/plain": [
       "<Figure size 432x288 with 2 Axes>"
      ]
     },
     "metadata": {
      "needs_background": "light"
     },
     "output_type": "display_data"
    }
   ],
   "source": [
    "fig = plt.figure()\n",
    "ax = plt.subplot(1,2,1)\n",
    "\n",
    "# Draw 50% line\n",
    "ax.set_title(\"Simplex generated BVAP\")\n",
    "ax.set_ylabel(\"BVAP %\")\n",
    "ax.set_xlabel(\"Sorted districts\")\n",
    "ax.set_ylim(0, 0.6)\n",
    "ax.set_yticks([0, 0.1, 0.2, 0.3, 0.4, 0.5, 0.6])\n",
    "\n",
    "# Draw boxplot\n",
    "bp = df.boxplot(ax=ax, showfliers=False)\n",
    "print(\"Done generating simulated boxplot...\")\n",
    "\n",
    "ax2 = plt.subplot(1,2,2)\n",
    "bp_real = df_real.boxplot(ax=ax2, showfliers=False)\n",
    "print(\"Done generating real boxplot...\")\n",
    "ax2.set_title(\"Actual BVAP\")\n",
    "ax2.set_ylabel(\"BVAP %\")\n",
    "ax2.set_xlabel(\"Sorted districts\")\n",
    "ax2.set_ylim(0, 0.6)\n",
    "ax2.set_yticks([0, 0.1, 0.2, 0.3, 0.4, 0.5, 0.6])\n",
    "\n",
    "\n",
    "# Annotate\n",
    "\n",
    "\n",
    "plt.show()\n",
    "fig.savefig(\"Comparing_simplex_to_actual_VA.png\")"
   ]
  },
  {
   "cell_type": "code",
   "execution_count": null,
   "metadata": {},
   "outputs": [],
   "source": []
  },
  {
   "cell_type": "code",
   "execution_count": null,
   "metadata": {},
   "outputs": [],
   "source": []
  }
 ],
 "metadata": {
  "kernelspec": {
   "display_name": "Python 3",
   "language": "python",
   "name": "python3"
  },
  "language_info": {
   "codemirror_mode": {
    "name": "ipython",
    "version": 3
   },
   "file_extension": ".py",
   "mimetype": "text/x-python",
   "name": "python",
   "nbconvert_exporter": "python",
   "pygments_lexer": "ipython3",
   "version": "3.7.3"
  }
 },
 "nbformat": 4,
 "nbformat_minor": 2
}
